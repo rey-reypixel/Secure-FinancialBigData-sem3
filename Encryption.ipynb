{
 "cells": [
  {
   "cell_type": "code",
   "execution_count": 12,
   "id": "8a63661a-b2ec-4e7a-887e-460aab901fff",
   "metadata": {},
   "outputs": [],
   "source": [
    "#needed libs\n",
    "import pandas as pd\n",
    "from Crypto.Cipher import AES\n",
    "from Crypto.Random import get_random_bytes\n",
    "from Crypto.Util.Padding import pad\n",
    "from IPython.display import display"
   ]
  },
  {
   "cell_type": "code",
   "execution_count": 13,
   "id": "4b4df988-2144-4af0-8ab6-f57012615db7",
   "metadata": {},
   "outputs": [],
   "source": [
    "key = get_random_bytes(32)  \n",
    "iv = get_random_bytes(16)  "
   ]
  },
  {
   "cell_type": "code",
   "execution_count": 14,
   "id": "5a1136b0-a590-447b-88e2-3838002ef527",
   "metadata": {},
   "outputs": [],
   "source": [
    "with open(\"key.bin\", \"wb\") as keyfile:\n",
    "    keyfile.write(key)\n",
    "\n",
    "with open(\"iv.bin\", \"wb\") as ivfile:\n",
    "    ivfile.write(iv)"
   ]
  },
  {
   "cell_type": "code",
   "execution_count": 15,
   "id": "d559ca04-fdff-4e8d-8ed8-794a40ab9a8b",
   "metadata": {},
   "outputs": [],
   "source": [
    "df = pd.read_csv(\"transactions_df.csv\")  "
   ]
  },
  {
   "cell_type": "code",
   "execution_count": 16,
   "id": "90fd6fa1-7683-451d-9a94-bec88e687bf9",
   "metadata": {},
   "outputs": [],
   "source": [
    "def encrypt_column(value):\n",
    "    \n",
    "    cipher = AES.new(key, AES.MODE_CBC, iv)\n",
    "    \n",
    "    encrypted_value = cipher.encrypt(pad(str(value).encode(), AES.block_size))\n",
    "    return encrypted_value.hex()"
   ]
  },
  {
   "cell_type": "code",
   "execution_count": 17,
   "id": "373c32e0-0209-4899-b72f-ec914ea6330c",
   "metadata": {},
   "outputs": [],
   "source": [
    "df['Encrypted_TX_AMOUNT'] = df['TX_AMOUNT'].apply(encrypt_column)\n",
    "df['Encrypted_ACCOUNT_ID'] = df['ACCOUNT_ID'].apply(encrypt_column)\n",
    "df['Encrypted_TRANSACTION_ID'] = df['TRANSACTION_ID'].apply(encrypt_column)\n"
   ]
  },
  {
   "cell_type": "code",
   "execution_count": 18,
   "id": "c7e9034a-d6ec-48ed-9b4c-db3e762285ac",
   "metadata": {},
   "outputs": [
    {
     "name": "stdout",
     "output_type": "stream",
     "text": [
      "Encryption complete! Encrypted dataset saved as 'encrypted_transactions.csv'.\n"
     ]
    }
   ],
   "source": [
    "df.to_csv(\"encrypted_transactions.csv\", index=False)\n",
    "\n",
    "print(\"Encryption complete! Encrypted dataset saved as 'encrypted_transactions.csv'.\")"
   ]
  },
  {
   "cell_type": "code",
   "execution_count": 19,
   "id": "b62cf157-3686-4bb5-bdb7-a9f2ccd93cb6",
   "metadata": {},
   "outputs": [
    {
     "name": "stdout",
     "output_type": "stream",
     "text": [
      "🔐 First 5 Encrypted Records:\n"
     ]
    },
    {
     "data": {
      "text/html": [
       "<style type=\"text/css\">\n",
       "</style>\n",
       "<table id=\"T_dbd5e\">\n",
       "  <caption>Encrypted Data Preview</caption>\n",
       "  <thead>\n",
       "    <tr>\n",
       "      <th class=\"blank level0\" >&nbsp;</th>\n",
       "      <th id=\"T_dbd5e_level0_col0\" class=\"col_heading level0 col0\" >Encrypted_TX_AMOUNT</th>\n",
       "      <th id=\"T_dbd5e_level0_col1\" class=\"col_heading level0 col1\" >Encrypted_ACCOUNT_ID</th>\n",
       "      <th id=\"T_dbd5e_level0_col2\" class=\"col_heading level0 col2\" >Encrypted_TRANSACTION_ID</th>\n",
       "    </tr>\n",
       "  </thead>\n",
       "  <tbody>\n",
       "    <tr>\n",
       "      <th id=\"T_dbd5e_level0_row0\" class=\"row_heading level0 row0\" >0</th>\n",
       "      <td id=\"T_dbd5e_row0_col0\" class=\"data row0 col0\" >50208711665ffd3ecaccc89975ca84d0</td>\n",
       "      <td id=\"T_dbd5e_row0_col1\" class=\"data row0 col1\" >43fc4bdb9fdeb3a58c24e03104c65b12</td>\n",
       "      <td id=\"T_dbd5e_row0_col2\" class=\"data row0 col2\" >0816561a698ad7fd3504ea13c569ab6d</td>\n",
       "    </tr>\n",
       "    <tr>\n",
       "      <th id=\"T_dbd5e_level0_row1\" class=\"row_heading level0 row1\" >1</th>\n",
       "      <td id=\"T_dbd5e_row1_col0\" class=\"data row1 col0\" >1e1b6080193f4d2ca24756073fda9f55</td>\n",
       "      <td id=\"T_dbd5e_row1_col1\" class=\"data row1 col1\" >e3acde946f5c9fd71c69f91de58dddd5</td>\n",
       "      <td id=\"T_dbd5e_row1_col2\" class=\"data row1 col2\" >d4df53a1e45168ff53de1ec211d8a4dc</td>\n",
       "    </tr>\n",
       "    <tr>\n",
       "      <th id=\"T_dbd5e_level0_row2\" class=\"row_heading level0 row2\" >2</th>\n",
       "      <td id=\"T_dbd5e_row2_col0\" class=\"data row2 col0\" >50c0301489156e77b70b440ef2172040</td>\n",
       "      <td id=\"T_dbd5e_row2_col1\" class=\"data row2 col1\" >425a571fd124478aa5ad59c62f577a77</td>\n",
       "      <td id=\"T_dbd5e_row2_col2\" class=\"data row2 col2\" >49e3d95ca1cf56b7d7d650365a8b0f9d</td>\n",
       "    </tr>\n",
       "    <tr>\n",
       "      <th id=\"T_dbd5e_level0_row3\" class=\"row_heading level0 row3\" >3</th>\n",
       "      <td id=\"T_dbd5e_row3_col0\" class=\"data row3 col0\" >d92c9c601540396be17101fd25af1ce8</td>\n",
       "      <td id=\"T_dbd5e_row3_col1\" class=\"data row3 col1\" >c44bcf68cc7bc7be943ad177d6037981</td>\n",
       "      <td id=\"T_dbd5e_row3_col2\" class=\"data row3 col2\" >b7e78a4787dde078b9e6bfee88993785</td>\n",
       "    </tr>\n",
       "    <tr>\n",
       "      <th id=\"T_dbd5e_level0_row4\" class=\"row_heading level0 row4\" >4</th>\n",
       "      <td id=\"T_dbd5e_row4_col0\" class=\"data row4 col0\" >76cbd34c53eb593498b1f970c98be3ca</td>\n",
       "      <td id=\"T_dbd5e_row4_col1\" class=\"data row4 col1\" >dec63be5308ac35b56aa619eaab87b4b</td>\n",
       "      <td id=\"T_dbd5e_row4_col2\" class=\"data row4 col2\" >388853147a4d333986578eb343334721</td>\n",
       "    </tr>\n",
       "  </tbody>\n",
       "</table>\n"
      ],
      "text/plain": [
       "<pandas.io.formats.style.Styler at 0x200f3800200>"
      ]
     },
     "metadata": {},
     "output_type": "display_data"
    }
   ],
   "source": [
    "from IPython.display import display\n",
    "\n",
    "print(\"🔐 First 5 Encrypted Records:\")\n",
    "display(df[['Encrypted_TX_AMOUNT', 'Encrypted_ACCOUNT_ID', 'Encrypted_TRANSACTION_ID']].head().style.set_caption(\"Encrypted Data Preview\"))\n",
    "\n"
   ]
  },
  {
   "cell_type": "code",
   "execution_count": null,
   "id": "97dadabc-b6e3-429e-98de-3c2a2eadf017",
   "metadata": {},
   "outputs": [],
   "source": []
  }
 ],
 "metadata": {
  "kernelspec": {
   "display_name": "Python 3 (ipykernel)",
   "language": "python",
   "name": "python3"
  },
  "language_info": {
   "codemirror_mode": {
    "name": "ipython",
    "version": 3
   },
   "file_extension": ".py",
   "mimetype": "text/x-python",
   "name": "python",
   "nbconvert_exporter": "python",
   "pygments_lexer": "ipython3",
   "version": "3.12.6"
  }
 },
 "nbformat": 4,
 "nbformat_minor": 5
}
