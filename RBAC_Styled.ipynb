{
 "cells": [
  {
   "cell_type": "code",
   "execution_count": 44,
   "id": "41466c94-19ca-4cfa-9092-081d0b475169",
   "metadata": {},
   "outputs": [],
   "source": [
    "import pandas as pd"
   ]
  },
  {
   "cell_type": "code",
   "execution_count": 45,
   "id": "a7ceb545-b928-4696-af18-63b38126ebf7",
   "metadata": {},
   "outputs": [],
   "source": [
    "users = {\n",
    "    \"admin_user\": {\"password\": \"Admin@123\", \"role\": \"Admin\"},\n",
    "    \"manager_user1\": {\"password\": \"Manager#456\", \"role\": \"Manager\"},\n",
    "    \"manager_user2\": {\"password\": \"Manager#789\", \"role\": \"Manager\"},\n",
    "    \"manager_user3\": {\"password\": \"Manager#321\", \"role\": \"Manager\"},\n",
    "    \"analyst_user1\": {\"password\": \"Analyst@101\", \"role\": \"Analyst\"},\n",
    "    \"analyst_user2\": {\"password\": \"Analyst@202\", \"role\": \"Analyst\"},\n",
    "    \"analyst_user3\": {\"password\": \"Analyst@303\", \"role\": \"Analyst\"},\n",
    "    \"analyst_user4\": {\"password\": \"Analyst@404\", \"role\": \"Analyst\"},\n",
    "    \"analyst_user5\": {\"password\": \"Analyst@505\", \"role\": \"Analyst\"},\n",
    "}"
   ]
  },
  {
   "cell_type": "code",
   "execution_count": 46,
   "id": "9578f7c2-3ec8-4ae9-883c-fede51174cd9",
   "metadata": {},
   "outputs": [],
   "source": [
    "# (RBAC) fields\n",
    "access_control = {\n",
    "    \"Admin\": [\"All fields accessible\"],\n",
    "    \"Manager\": [\n",
    "        \"TRANSACTION_ID\", \"TX_DATE     TIME\", \"ACCOUNT_ID\", \"TRANSACTION_TYPE\", \n",
    "        \"TX_AMOUNT\", \"TX_AMOUNT_STD\", \"TX_AMOUNT_MEAN\", \"Amount_Deviation\", \n",
    "        \"ACCOUNT_ID_NB_TX_1H_WINDOW\", \"ACCOUNT_ID_AVG_AMOUNT_1H_WINDOW\"\n",
    "    ],\n",
    "    \"Analyst\": [\n",
    "        \"TX_DATE     TIME\", \"TRANSACTION_TYPE\", \"TX_AMOUNT_STD\", \"TX_AMOUNT_MEAN\", \n",
    "        \"Amount_Deviation\", \"TX_FRAUD\", \"TX_DURING_WEEKEND\", \"TX_DURING_NIGHT\"\n",
    "    ]\n",
    "}\n"
   ]
  },
  {
   "cell_type": "code",
   "execution_count": 47,
   "id": "e92524b6-0dd2-4751-b46f-579937b9e916",
   "metadata": {},
   "outputs": [],
   "source": [
    "def authenticate(username, password):\n",
    "    if username in users:\n",
    "        if users[username][\"password\"] == password:\n",
    "            return users[username][\"role\"]\n",
    "    return None"
   ]
  },
  {
   "cell_type": "code",
   "execution_count": 48,
   "id": "d5c390a9-8578-4a64-a7fb-2446c67b9df6",
   "metadata": {},
   "outputs": [],
   "source": [
    "# Function to display accessible fields\n",
    "def display_accessible_fields(role):\n",
    "    print(f\"\\nRole: {role}\")\n",
    "    print(\"Accessible Fields:\")\n",
    "    if role == \"Admin\":\n",
    "        print(\", \".join(access_control[\"Admin\"]))\n",
    "    else:\n",
    "        print(\", \".join(access_control[role]))"
   ]
  },
  {
   "cell_type": "code",
   "execution_count": 49,
   "id": "15de19f6-e103-4372-95bc-9ef772a44d6a",
   "metadata": {},
   "outputs": [
    {
     "name": "stdout",
     "output_type": "stream",
     "text": [
      "\n",
      "Loading dataset...\n",
      "Dataset loaded successfully!\n",
      "\n"
     ]
    }
   ],
   "source": [
    "print(\"\\nLoading dataset...\")\n",
    "df = pd.read_csv(\"encrypted_transactions.csv\")  \n",
    "print(\"Dataset loaded successfully!\\n\")\n"
   ]
  },
  {
   "cell_type": "code",
   "execution_count": 50,
   "id": "f4d0c78e-d997-4190-92ff-b32f891fbc7f",
   "metadata": {},
   "outputs": [
    {
     "name": "stdout",
     "output_type": "stream",
     "text": [
      "['TRANSACTION_ID', 'TX_DATE     TIME', 'ACCOUNT_ID', 'TRANSACTION_TYPE', 'TX_AMOUNT', 'TX_TIME_SECONDS', 'TX_TIME_DAYS', 'TX_FRAUD', 'TX_FRAUD_SCENARIO', 'TX_AMOUNT_STD', 'TX_AMOUNT_MEAN', 'Amount_Deviation', 'Amount_Threshold', 'Time_Seconds_Diff', 'Time_Diff', 'TX_DURING_WEEKEND', 'TX_DURING_NIGHT', 'TX_FRAUD_1H_SCENARIO', 'ACCOUNT_ID_NB_TX_1H_WINDOW', 'ACCOUNT_ID_AVG_AMOUNT_1H_WINDOW', 'Encrypted_TX_AMOUNT', 'Encrypted_ACCOUNT_ID', 'Encrypted_TRANSACTION_ID']\n"
     ]
    }
   ],
   "source": [
    "print(df.columns.tolist())\n"
   ]
  },
  {
   "cell_type": "code",
   "execution_count": 51,
   "id": "62f283a3-cf61-4748-8c76-da9cb72171ca",
   "metadata": {},
   "outputs": [
    {
     "name": "stdout",
     "output_type": "stream",
     "text": [
      "Welcome to the System!\n"
     ]
    },
    {
     "name": "stdin",
     "output_type": "stream",
     "text": [
      "Enter your username:  analyst_user4\n",
      "Enter your password:  Analyst@404\n"
     ]
    }
   ],
   "source": [
    "print(\"Welcome to the System!\")\n",
    "username = input(\"Enter your username: \")\n",
    "password = input(\"Enter your password: \")"
   ]
  },
  {
   "cell_type": "code",
   "execution_count": 52,
   "id": "4f272ff4-a618-46b2-a687-349827c157ed",
   "metadata": {},
   "outputs": [],
   "source": [
    "# Authenticate user\n",
    "role = authenticate(username, password)\n"
   ]
  },
  {
   "cell_type": "code",
   "execution_count": 53,
   "id": "4de6a5bd-b3a9-4906-afd2-e40d34adfbf3",
   "metadata": {},
   "outputs": [
    {
     "name": "stdout",
     "output_type": "stream",
     "text": [
      "\n",
      "🔐 Sample Data for Your Role:\n"
     ]
    },
    {
     "data": {
      "text/html": [
       "<style type=\"text/css\">\n",
       "#T_3c25a caption {\n",
       "  color: #239B56;\n",
       "  font-size: 16px;\n",
       "  text-align: left;\n",
       "  font-weight: bold;\n",
       "}\n",
       "</style>\n",
       "<table id=\"T_3c25a\">\n",
       "  <caption>Analyst View</caption>\n",
       "  <thead>\n",
       "    <tr>\n",
       "      <th class=\"blank level0\" >&nbsp;</th>\n",
       "      <th id=\"T_3c25a_level0_col0\" class=\"col_heading level0 col0\" >TX_DATE     TIME</th>\n",
       "      <th id=\"T_3c25a_level0_col1\" class=\"col_heading level0 col1\" >TRANSACTION_TYPE</th>\n",
       "      <th id=\"T_3c25a_level0_col2\" class=\"col_heading level0 col2\" >TX_AMOUNT_STD</th>\n",
       "      <th id=\"T_3c25a_level0_col3\" class=\"col_heading level0 col3\" >TX_AMOUNT_MEAN</th>\n",
       "      <th id=\"T_3c25a_level0_col4\" class=\"col_heading level0 col4\" >Amount_Deviation</th>\n",
       "      <th id=\"T_3c25a_level0_col5\" class=\"col_heading level0 col5\" >TX_FRAUD</th>\n",
       "      <th id=\"T_3c25a_level0_col6\" class=\"col_heading level0 col6\" >TX_DURING_WEEKEND</th>\n",
       "      <th id=\"T_3c25a_level0_col7\" class=\"col_heading level0 col7\" >TX_DURING_NIGHT</th>\n",
       "    </tr>\n",
       "  </thead>\n",
       "  <tbody>\n",
       "    <tr>\n",
       "      <th id=\"T_3c25a_level0_row0\" class=\"row_heading level0 row0\" >0</th>\n",
       "      <td id=\"T_3c25a_row0_col0\" class=\"data row0 col0\" >01-04-2023 02:03</td>\n",
       "      <td id=\"T_3c25a_row0_col1\" class=\"data row0 col1\" >2</td>\n",
       "      <td id=\"T_3c25a_row0_col2\" class=\"data row0 col2\" >32384.484100</td>\n",
       "      <td id=\"T_3c25a_row0_col3\" class=\"data row0 col3\" >70990.724350</td>\n",
       "      <td id=\"T_3c25a_row0_col4\" class=\"data row0 col4\" >38735.485650</td>\n",
       "      <td id=\"T_3c25a_row0_col5\" class=\"data row0 col5\" >0</td>\n",
       "      <td id=\"T_3c25a_row0_col6\" class=\"data row0 col6\" >1</td>\n",
       "      <td id=\"T_3c25a_row0_col7\" class=\"data row0 col7\" >1</td>\n",
       "    </tr>\n",
       "    <tr>\n",
       "      <th id=\"T_3c25a_level0_row1\" class=\"row_heading level0 row1\" >1</th>\n",
       "      <td id=\"T_3c25a_row1_col0\" class=\"data row1 col0\" >01-04-2023 02:04</td>\n",
       "      <td id=\"T_3c25a_row1_col1\" class=\"data row1 col1\" >3</td>\n",
       "      <td id=\"T_3c25a_row1_col2\" class=\"data row1 col2\" >14959.301810</td>\n",
       "      <td id=\"T_3c25a_row1_col3\" class=\"data row1 col3\" >32777.196780</td>\n",
       "      <td id=\"T_3c25a_row1_col4\" class=\"data row1 col4\" >14877.493220</td>\n",
       "      <td id=\"T_3c25a_row1_col5\" class=\"data row1 col5\" >0</td>\n",
       "      <td id=\"T_3c25a_row1_col6\" class=\"data row1 col6\" >1</td>\n",
       "      <td id=\"T_3c25a_row1_col7\" class=\"data row1 col7\" >1</td>\n",
       "    </tr>\n",
       "    <tr>\n",
       "      <th id=\"T_3c25a_level0_row2\" class=\"row_heading level0 row2\" >2</th>\n",
       "      <td id=\"T_3c25a_row2_col0\" class=\"data row2 col0\" >01-04-2023 02:19</td>\n",
       "      <td id=\"T_3c25a_row2_col1\" class=\"data row2 col1\" >2</td>\n",
       "      <td id=\"T_3c25a_row2_col2\" class=\"data row2 col2\" >19392.377010</td>\n",
       "      <td id=\"T_3c25a_row2_col3\" class=\"data row2 col3\" >40481.627410</td>\n",
       "      <td id=\"T_3c25a_row2_col4\" class=\"data row2 col4\" >7953.912588</td>\n",
       "      <td id=\"T_3c25a_row2_col5\" class=\"data row2 col5\" >0</td>\n",
       "      <td id=\"T_3c25a_row2_col6\" class=\"data row2 col6\" >1</td>\n",
       "      <td id=\"T_3c25a_row2_col7\" class=\"data row2 col7\" >1</td>\n",
       "    </tr>\n",
       "    <tr>\n",
       "      <th id=\"T_3c25a_level0_row3\" class=\"row_heading level0 row3\" >3</th>\n",
       "      <td id=\"T_3c25a_row3_col0\" class=\"data row3 col0\" >01-04-2023 02:21</td>\n",
       "      <td id=\"T_3c25a_row3_col1\" class=\"data row3 col1\" >3</td>\n",
       "      <td id=\"T_3c25a_row3_col2\" class=\"data row3 col2\" >34707.819700</td>\n",
       "      <td id=\"T_3c25a_row3_col3\" class=\"data row3 col3\" >77200.845530</td>\n",
       "      <td id=\"T_3c25a_row3_col4\" class=\"data row3 col4\" >76864.994470</td>\n",
       "      <td id=\"T_3c25a_row3_col5\" class=\"data row3 col5\" >1</td>\n",
       "      <td id=\"T_3c25a_row3_col6\" class=\"data row3 col6\" >1</td>\n",
       "      <td id=\"T_3c25a_row3_col7\" class=\"data row3 col7\" >1</td>\n",
       "    </tr>\n",
       "    <tr>\n",
       "      <th id=\"T_3c25a_level0_row4\" class=\"row_heading level0 row4\" >4</th>\n",
       "      <td id=\"T_3c25a_row4_col0\" class=\"data row4 col0\" >01-04-2023 02:26</td>\n",
       "      <td id=\"T_3c25a_row4_col1\" class=\"data row4 col1\" >2</td>\n",
       "      <td id=\"T_3c25a_row4_col2\" class=\"data row4 col2\" >18953.101450</td>\n",
       "      <td id=\"T_3c25a_row4_col3\" class=\"data row4 col3\" >41070.573510</td>\n",
       "      <td id=\"T_3c25a_row4_col4\" class=\"data row4 col4\" >11999.986490</td>\n",
       "      <td id=\"T_3c25a_row4_col5\" class=\"data row4 col5\" >0</td>\n",
       "      <td id=\"T_3c25a_row4_col6\" class=\"data row4 col6\" >1</td>\n",
       "      <td id=\"T_3c25a_row4_col7\" class=\"data row4 col7\" >1</td>\n",
       "    </tr>\n",
       "  </tbody>\n",
       "</table>\n"
      ],
      "text/plain": [
       "<pandas.io.formats.style.Styler at 0x1f79a0160f0>"
      ]
     },
     "metadata": {},
     "output_type": "display_data"
    }
   ],
   "source": [
    "\n",
    "from IPython.display import display\n",
    "\n",
    "print(\"\\n🔐 Sample Data for Your Role:\")\n",
    "if role == \"Admin\":\n",
    "    display(df.head().style.set_caption(\"Admin View\").set_table_styles([{\n",
    "        'selector': 'caption',\n",
    "        'props': [('color', 'black'), ('font-size', '16px'), ('text-align', 'left'), ('font-weight', 'bold')]\n",
    "    }]))\n",
    "elif role == \"Manager\":\n",
    "    display(df[access_control[\"Manager\"]].head().style.set_caption(\"Manager View\").set_table_styles([{\n",
    "        'selector': 'caption',\n",
    "        'props': [('color', '#2E86C1'), ('font-size', '16px'), ('text-align', 'left'), ('font-weight', 'bold')]\n",
    "    }]))\n",
    "elif role == \"Analyst\":\n",
    "    display(df[access_control[\"Analyst\"]].head().style.set_caption(\"Analyst View\").set_table_styles([{\n",
    "        'selector': 'caption',\n",
    "        'props': [('color', '#239B56'), ('font-size', '16px'), ('text-align', 'left'), ('font-weight', 'bold')]\n",
    "    }]))\n"
   ]
  },
  {
   "cell_type": "code",
   "execution_count": null,
   "id": "7263e883-5428-45a3-b633-89bef6af7117",
   "metadata": {},
   "outputs": [],
   "source": []
  }
 ],
 "metadata": {
  "kernelspec": {
   "display_name": "Python 3 (ipykernel)",
   "language": "python",
   "name": "python3"
  },
  "language_info": {
   "codemirror_mode": {
    "name": "ipython",
    "version": 3
   },
   "file_extension": ".py",
   "mimetype": "text/x-python",
   "name": "python",
   "nbconvert_exporter": "python",
   "pygments_lexer": "ipython3",
   "version": "3.12.6"
  }
 },
 "nbformat": 4,
 "nbformat_minor": 5
}
