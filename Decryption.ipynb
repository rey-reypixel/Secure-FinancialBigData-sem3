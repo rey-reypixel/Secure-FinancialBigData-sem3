{
 "cells": [
  {
   "cell_type": "code",
   "execution_count": 7,
   "id": "0d457470-79aa-43cc-9f32-dd0d507cb09b",
   "metadata": {},
   "outputs": [],
   "source": [
    "import pandas as pd\n",
    "from Crypto.Cipher import AES\n",
    "from Crypto.Util.Padding import unpad\n",
    "from IPython.display import display"
   ]
  },
  {
   "cell_type": "code",
   "execution_count": 8,
   "id": "3a435222-428b-412e-a44b-5e0e5025f217",
   "metadata": {},
   "outputs": [],
   "source": [
    "with open(\"key.bin\", \"rb\") as keyfile:\n",
    "    key = keyfile.read()\n",
    "with open(\"iv.bin\", \"rb\") as ivfile:\n",
    "    iv = ivfile.read()"
   ]
  },
  {
   "cell_type": "code",
   "execution_count": 9,
   "id": "bf1bd5c1-9a9b-491d-9fd4-7090ff27043b",
   "metadata": {},
   "outputs": [],
   "source": [
    "df = pd.read_csv(\"encrypted_transactions.csv\")\n"
   ]
  },
  {
   "cell_type": "code",
   "execution_count": 10,
   "id": "1307b90d-6711-4c0d-a9ed-d748f964e2e7",
   "metadata": {},
   "outputs": [],
   "source": [
    "def decrypt_column(value):\n",
    "    cipher = AES.new(key, AES.MODE_CBC, iv)\n",
    "    decrypted_value = unpad(cipher.decrypt(bytes.fromhex(value)), AES.block_size)\n",
    "    return decrypted_value.decode()\n"
   ]
  },
  {
   "cell_type": "code",
   "execution_count": 11,
   "id": "87538167-edaf-409b-8f8e-c1d7e3ec5d2f",
   "metadata": {},
   "outputs": [],
   "source": [
    "df['Decrypted_TX_AMOUNT'] = df['Encrypted_TX_AMOUNT'].apply(decrypt_column)\n",
    "df['Decrypted_ACCOUNT_ID'] = df['Encrypted_ACCOUNT_ID'].apply(decrypt_column)\n",
    "df['Decrypted_TRANSACTION_ID'] = df['Encrypted_TRANSACTION_ID'].apply(decrypt_column)\n"
   ]
  },
  {
   "cell_type": "code",
   "execution_count": 12,
   "id": "7a86930c-a4df-4e11-970f-8ed03301a52a",
   "metadata": {},
   "outputs": [],
   "source": [
    "df.to_csv(\"decrypted_transactions.csv\", index=False)"
   ]
  },
  {
   "cell_type": "code",
   "execution_count": 13,
   "id": "16b1a63f-a545-4235-809e-b7262877d750",
   "metadata": {},
   "outputs": [
    {
     "name": "stdout",
     "output_type": "stream",
     "text": [
      "Decryption complete! Decrypted dataset saved as 'decrypted_transactions.csv'.\n"
     ]
    }
   ],
   "source": [
    "print(\"Decryption complete! Decrypted dataset saved as 'decrypted_transactions.csv'.\")\n"
   ]
  },
  {
   "cell_type": "code",
   "execution_count": 14,
   "id": "1df6b5df-83a8-4fd7-b14e-fccf9dc0cca6",
   "metadata": {},
   "outputs": [
    {
     "name": "stdout",
     "output_type": "stream",
     "text": [
      "\n",
      "Transaction Amount:\n"
     ]
    },
    {
     "data": {
      "text/html": [
       "<style type=\"text/css\">\n",
       "</style>\n",
       "<table id=\"T_fbdba\">\n",
       "  <caption>TX_AMOUNT</caption>\n",
       "  <thead>\n",
       "    <tr>\n",
       "      <th class=\"blank level0\" >&nbsp;</th>\n",
       "      <th id=\"T_fbdba_level0_col0\" class=\"col_heading level0 col0\" >Encrypted_TX_AMOUNT</th>\n",
       "      <th id=\"T_fbdba_level0_col1\" class=\"col_heading level0 col1\" >Decrypted_TX_AMOUNT</th>\n",
       "    </tr>\n",
       "  </thead>\n",
       "  <tbody>\n",
       "    <tr>\n",
       "      <th id=\"T_fbdba_level0_row0\" class=\"row_heading level0 row0\" >0</th>\n",
       "      <td id=\"T_fbdba_row0_col0\" class=\"data row0 col0\" >50208711665ffd3ecaccc89975ca84d0</td>\n",
       "      <td id=\"T_fbdba_row0_col1\" class=\"data row0 col1\" >109726.21</td>\n",
       "    </tr>\n",
       "    <tr>\n",
       "      <th id=\"T_fbdba_level0_row1\" class=\"row_heading level0 row1\" >1</th>\n",
       "      <td id=\"T_fbdba_row1_col0\" class=\"data row1 col0\" >1e1b6080193f4d2ca24756073fda9f55</td>\n",
       "      <td id=\"T_fbdba_row1_col1\" class=\"data row1 col1\" >47654.69</td>\n",
       "    </tr>\n",
       "    <tr>\n",
       "      <th id=\"T_fbdba_level0_row2\" class=\"row_heading level0 row2\" >2</th>\n",
       "      <td id=\"T_fbdba_row2_col0\" class=\"data row2 col0\" >50c0301489156e77b70b440ef2172040</td>\n",
       "      <td id=\"T_fbdba_row2_col1\" class=\"data row2 col1\" >48435.54</td>\n",
       "    </tr>\n",
       "    <tr>\n",
       "      <th id=\"T_fbdba_level0_row3\" class=\"row_heading level0 row3\" >3</th>\n",
       "      <td id=\"T_fbdba_row3_col0\" class=\"data row3 col0\" >d92c9c601540396be17101fd25af1ce8</td>\n",
       "      <td id=\"T_fbdba_row3_col1\" class=\"data row3 col1\" >154065.84</td>\n",
       "    </tr>\n",
       "    <tr>\n",
       "      <th id=\"T_fbdba_level0_row4\" class=\"row_heading level0 row4\" >4</th>\n",
       "      <td id=\"T_fbdba_row4_col0\" class=\"data row4 col0\" >76cbd34c53eb593498b1f970c98be3ca</td>\n",
       "      <td id=\"T_fbdba_row4_col1\" class=\"data row4 col1\" >53070.56</td>\n",
       "    </tr>\n",
       "  </tbody>\n",
       "</table>\n"
      ],
      "text/plain": [
       "<pandas.io.formats.style.Styler at 0x1a413877ef0>"
      ]
     },
     "metadata": {},
     "output_type": "display_data"
    },
    {
     "name": "stdout",
     "output_type": "stream",
     "text": [
      "\n",
      "Account ID:\n"
     ]
    },
    {
     "data": {
      "text/html": [
       "<style type=\"text/css\">\n",
       "</style>\n",
       "<table id=\"T_e8580\">\n",
       "  <caption>ACCOUNT_ID</caption>\n",
       "  <thead>\n",
       "    <tr>\n",
       "      <th class=\"blank level0\" >&nbsp;</th>\n",
       "      <th id=\"T_e8580_level0_col0\" class=\"col_heading level0 col0\" >Encrypted_ACCOUNT_ID</th>\n",
       "      <th id=\"T_e8580_level0_col1\" class=\"col_heading level0 col1\" >Decrypted_ACCOUNT_ID</th>\n",
       "    </tr>\n",
       "  </thead>\n",
       "  <tbody>\n",
       "    <tr>\n",
       "      <th id=\"T_e8580_level0_row0\" class=\"row_heading level0 row0\" >0</th>\n",
       "      <td id=\"T_e8580_row0_col0\" class=\"data row0 col0\" >43fc4bdb9fdeb3a58c24e03104c65b12</td>\n",
       "      <td id=\"T_e8580_row0_col1\" class=\"data row0 col1\" >1317</td>\n",
       "    </tr>\n",
       "    <tr>\n",
       "      <th id=\"T_e8580_level0_row1\" class=\"row_heading level0 row1\" >1</th>\n",
       "      <td id=\"T_e8580_row1_col0\" class=\"data row1 col0\" >e3acde946f5c9fd71c69f91de58dddd5</td>\n",
       "      <td id=\"T_e8580_row1_col1\" class=\"data row1 col1\" >3131</td>\n",
       "    </tr>\n",
       "    <tr>\n",
       "      <th id=\"T_e8580_level0_row2\" class=\"row_heading level0 row2\" >2</th>\n",
       "      <td id=\"T_e8580_row2_col0\" class=\"data row2 col0\" >425a571fd124478aa5ad59c62f577a77</td>\n",
       "      <td id=\"T_e8580_row2_col1\" class=\"data row2 col1\" >746</td>\n",
       "    </tr>\n",
       "    <tr>\n",
       "      <th id=\"T_e8580_level0_row3\" class=\"row_heading level0 row3\" >3</th>\n",
       "      <td id=\"T_e8580_row3_col0\" class=\"data row3 col0\" >c44bcf68cc7bc7be943ad177d6037981</td>\n",
       "      <td id=\"T_e8580_row3_col1\" class=\"data row3 col1\" >3166</td>\n",
       "    </tr>\n",
       "    <tr>\n",
       "      <th id=\"T_e8580_level0_row4\" class=\"row_heading level0 row4\" >4</th>\n",
       "      <td id=\"T_e8580_row4_col0\" class=\"data row4 col0\" >dec63be5308ac35b56aa619eaab87b4b</td>\n",
       "      <td id=\"T_e8580_row4_col1\" class=\"data row4 col1\" >1432</td>\n",
       "    </tr>\n",
       "  </tbody>\n",
       "</table>\n"
      ],
      "text/plain": [
       "<pandas.io.formats.style.Styler at 0x1a413e45550>"
      ]
     },
     "metadata": {},
     "output_type": "display_data"
    },
    {
     "name": "stdout",
     "output_type": "stream",
     "text": [
      "\n",
      "Transaction ID:\n"
     ]
    },
    {
     "data": {
      "text/html": [
       "<style type=\"text/css\">\n",
       "</style>\n",
       "<table id=\"T_4bcd5\">\n",
       "  <caption>TRANSACTION_ID</caption>\n",
       "  <thead>\n",
       "    <tr>\n",
       "      <th class=\"blank level0\" >&nbsp;</th>\n",
       "      <th id=\"T_4bcd5_level0_col0\" class=\"col_heading level0 col0\" >Encrypted_TRANSACTION_ID</th>\n",
       "      <th id=\"T_4bcd5_level0_col1\" class=\"col_heading level0 col1\" >Decrypted_TRANSACTION_ID</th>\n",
       "    </tr>\n",
       "  </thead>\n",
       "  <tbody>\n",
       "    <tr>\n",
       "      <th id=\"T_4bcd5_level0_row0\" class=\"row_heading level0 row0\" >0</th>\n",
       "      <td id=\"T_4bcd5_row0_col0\" class=\"data row0 col0\" >0816561a698ad7fd3504ea13c569ab6d</td>\n",
       "      <td id=\"T_4bcd5_row0_col1\" class=\"data row0 col1\" >206</td>\n",
       "    </tr>\n",
       "    <tr>\n",
       "      <th id=\"T_4bcd5_level0_row1\" class=\"row_heading level0 row1\" >1</th>\n",
       "      <td id=\"T_4bcd5_row1_col0\" class=\"data row1 col0\" >d4df53a1e45168ff53de1ec211d8a4dc</td>\n",
       "      <td id=\"T_4bcd5_row1_col1\" class=\"data row1 col1\" >210</td>\n",
       "    </tr>\n",
       "    <tr>\n",
       "      <th id=\"T_4bcd5_level0_row2\" class=\"row_heading level0 row2\" >2</th>\n",
       "      <td id=\"T_4bcd5_row2_col0\" class=\"data row2 col0\" >49e3d95ca1cf56b7d7d650365a8b0f9d</td>\n",
       "      <td id=\"T_4bcd5_row2_col1\" class=\"data row2 col1\" >248</td>\n",
       "    </tr>\n",
       "    <tr>\n",
       "      <th id=\"T_4bcd5_level0_row3\" class=\"row_heading level0 row3\" >3</th>\n",
       "      <td id=\"T_4bcd5_row3_col0\" class=\"data row3 col0\" >b7e78a4787dde078b9e6bfee88993785</td>\n",
       "      <td id=\"T_4bcd5_row3_col1\" class=\"data row3 col1\" >253</td>\n",
       "    </tr>\n",
       "    <tr>\n",
       "      <th id=\"T_4bcd5_level0_row4\" class=\"row_heading level0 row4\" >4</th>\n",
       "      <td id=\"T_4bcd5_row4_col0\" class=\"data row4 col0\" >388853147a4d333986578eb343334721</td>\n",
       "      <td id=\"T_4bcd5_row4_col1\" class=\"data row4 col1\" >269</td>\n",
       "    </tr>\n",
       "  </tbody>\n",
       "</table>\n"
      ],
      "text/plain": [
       "<pandas.io.formats.style.Styler at 0x1a413e45550>"
      ]
     },
     "metadata": {},
     "output_type": "display_data"
    }
   ],
   "source": [
    "print(\"\\nTransaction Amount:\")\n",
    "display(df[['Encrypted_TX_AMOUNT', 'Decrypted_TX_AMOUNT']].head().style.set_caption(\"TX_AMOUNT\"))\n",
    "\n",
    "print(\"\\nAccount ID:\")\n",
    "display(df[['Encrypted_ACCOUNT_ID', 'Decrypted_ACCOUNT_ID']].head().style.set_caption(\"ACCOUNT_ID\"))\n",
    "\n",
    "print(\"\\nTransaction ID:\")\n",
    "display(df[['Encrypted_TRANSACTION_ID', 'Decrypted_TRANSACTION_ID']].head().style.set_caption(\"TRANSACTION_ID\"))"
   ]
  },
  {
   "cell_type": "code",
   "execution_count": null,
   "id": "4106a162-51a8-48fb-b0d8-82c857838c33",
   "metadata": {},
   "outputs": [],
   "source": []
  }
 ],
 "metadata": {
  "kernelspec": {
   "display_name": "Python 3 (ipykernel)",
   "language": "python",
   "name": "python3"
  },
  "language_info": {
   "codemirror_mode": {
    "name": "ipython",
    "version": 3
   },
   "file_extension": ".py",
   "mimetype": "text/x-python",
   "name": "python",
   "nbconvert_exporter": "python",
   "pygments_lexer": "ipython3",
   "version": "3.12.6"
  }
 },
 "nbformat": 4,
 "nbformat_minor": 5
}
